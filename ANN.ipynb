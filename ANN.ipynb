{
  "nbformat": 4,
  "nbformat_minor": 0,
  "metadata": {
    "colab": {
      "provenance": [],
      "mount_file_id": "1jvo-sCXhIMA-gysXtanFscI_Mh9k_P5F",
      "authorship_tag": "ABX9TyMKoKWeYI4nBc3292rPGjk+",
      "include_colab_link": true
    },
    "kernelspec": {
      "name": "python3",
      "display_name": "Python 3"
    },
    "language_info": {
      "name": "python"
    }
  },
  "cells": [
    {
      "cell_type": "markdown",
      "metadata": {
        "id": "view-in-github",
        "colab_type": "text"
      },
      "source": [
        "<a href=\"https://colab.research.google.com/github/TheTharz/ANN/blob/main/ANN.ipynb\" target=\"_parent\"><img src=\"https://colab.research.google.com/assets/colab-badge.svg\" alt=\"Open In Colab\"/></a>"
      ]
    },
    {
      "cell_type": "markdown",
      "source": [
        "Load DataSet From The Drive"
      ],
      "metadata": {
        "id": "MkXELmgNAENQ"
      }
    },
    {
      "cell_type": "code",
      "execution_count": 1,
      "metadata": {
        "colab": {
          "base_uri": "https://localhost:8080/"
        },
        "id": "qc2AAUHJ8OYX",
        "outputId": "1f7ebab4-5c23-4c81-f114-b145a4482fb8"
      },
      "outputs": [
        {
          "output_type": "stream",
          "name": "stdout",
          "text": [
            "   RowNumber  CustomerId   Surname  CreditScore Geography  Gender  Age  \\\n",
            "0          1    15634602  Hargrave          619    France  Female   42   \n",
            "1          2    15647311      Hill          608     Spain  Female   41   \n",
            "2          3    15619304      Onio          502    France  Female   42   \n",
            "3          4    15701354      Boni          699    France  Female   39   \n",
            "4          5    15737888  Mitchell          850     Spain  Female   43   \n",
            "\n",
            "   Tenure    Balance  NumOfProducts  HasCrCard  IsActiveMember  \\\n",
            "0       2       0.00              1          1               1   \n",
            "1       1   83807.86              1          0               1   \n",
            "2       8  159660.80              3          1               0   \n",
            "3       1       0.00              2          0               0   \n",
            "4       2  125510.82              1          1               1   \n",
            "\n",
            "   EstimatedSalary  Exited  \n",
            "0        101348.88       1  \n",
            "1        112542.58       0  \n",
            "2        113931.57       1  \n",
            "3         93826.63       0  \n",
            "4         79084.10       0  \n"
          ]
        }
      ],
      "source": [
        "import numpy as np\n",
        "import matplotlib.pyplot as plt\n",
        "import pandas as pd\n",
        "\n",
        "# Importing the dataset\n",
        "dataset = pd.read_csv('/content/drive/MyDrive/datasets/Churn_Modelling.csv')\n",
        "print(dataset.head())"
      ]
    },
    {
      "cell_type": "markdown",
      "source": [
        "Creating dependent and independent features. Here dependent feature is exited. Whether or not customer will leave the bank. We have to predict that output from ann."
      ],
      "metadata": {
        "id": "ugPlf1iYAJCe"
      }
    },
    {
      "cell_type": "code",
      "source": [
        "X = dataset.iloc[:, 3:13]\n",
        "y = dataset.iloc[:, 13]"
      ],
      "metadata": {
        "id": "XN-vpVuUACr1"
      },
      "execution_count": 2,
      "outputs": []
    },
    {
      "cell_type": "markdown",
      "source": [
        "Create dummy variables. Dummy variables are created to convert categorical data into a numerical format that machine learning models can understand."
      ],
      "metadata": {
        "id": "K5L16pmKAhb0"
      }
    },
    {
      "cell_type": "code",
      "source": [
        "geography=pd.get_dummies(X[\"Geography\"],drop_first=True)\n",
        "gender=pd.get_dummies(X['Gender'],drop_first=True)"
      ],
      "metadata": {
        "id": "PTHT2c5zAVry"
      },
      "execution_count": 3,
      "outputs": []
    },
    {
      "cell_type": "markdown",
      "source": [
        "Concatanate the data frames"
      ],
      "metadata": {
        "id": "gTpxDUV9A5E8"
      }
    },
    {
      "cell_type": "code",
      "source": [
        "X=pd.concat([X,geography,gender],axis=1)"
      ],
      "metadata": {
        "id": "J6xLCINcAyOD"
      },
      "execution_count": 4,
      "outputs": []
    },
    {
      "cell_type": "markdown",
      "source": [
        "Drop unnecessery columns since dummy varaibles were created for the categorical features."
      ],
      "metadata": {
        "id": "H1qUnS68BHgz"
      }
    },
    {
      "cell_type": "code",
      "source": [
        "X=X.drop(['Geography','Gender'],axis=1)"
      ],
      "metadata": {
        "id": "1HWXKv_oA71G"
      },
      "execution_count": 5,
      "outputs": []
    },
    {
      "cell_type": "markdown",
      "source": [
        "Split the dataset in to train and test datasets."
      ],
      "metadata": {
        "id": "cxDqdip1BVKs"
      }
    },
    {
      "cell_type": "code",
      "source": [
        "from sklearn.model_selection import train_test_split\n",
        "X_train, X_test, y_train, y_test = train_test_split(X, y, test_size = 0.2, random_state = 0)"
      ],
      "metadata": {
        "id": "QEKx_6P3BNoI"
      },
      "execution_count": 6,
      "outputs": []
    },
    {
      "cell_type": "markdown",
      "source": [
        "Feature scaling.\n",
        "\n",
        "Improves Model Convergence\n",
        "\n",
        "Algorithms that rely on gradient descent (e.g., logistic regression, neural networks) perform faster and more accurately when features are scaled. Without scaling, large differences in feature magnitudes cause slow convergence or may prevent the model from finding the optimal solution.\n",
        "\n",
        "Prevents Features from Dominating\n",
        "\n",
        "Models that rely on distance measures (e.g., K-Nearest Neighbors, Support Vector Machines) are sensitive to feature magnitudes. If one feature has a much larger scale than others, it will dominate the model’s predictions.\n",
        "\n",
        "Ensures Fair Weight Distribution\n",
        "\n",
        "Linear models (e.g., linear regression, logistic regression) assign weights to features. Scaling ensures that the model treats all features equally and doesn’t assign disproportionate importance to features with larger magnitudes.\n",
        "\n",
        "Improves Numerical Stability\n",
        "\n",
        "Large or small feature values can lead to numerical instability and rounding errors in some algorithms."
      ],
      "metadata": {
        "id": "4LLFVI_tB_Xs"
      }
    },
    {
      "cell_type": "code",
      "source": [
        "from sklearn.preprocessing import StandardScaler\n",
        "sc = StandardScaler()\n",
        "X_train = sc.fit_transform(X_train)\n",
        "X_test = sc.transform(X_test)"
      ],
      "metadata": {
        "id": "PL4sSaaOBYSL"
      },
      "execution_count": 7,
      "outputs": []
    },
    {
      "cell_type": "code",
      "source": [],
      "metadata": {
        "id": "vdjfVZhzCo7_"
      },
      "execution_count": null,
      "outputs": []
    }
  ]
}